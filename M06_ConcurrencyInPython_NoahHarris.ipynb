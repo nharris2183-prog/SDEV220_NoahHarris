{
 "cells": [
  {
   "cell_type": "code",
   "execution_count": 1,
   "id": "b39bd6d9",
   "metadata": {},
   "outputs": [
    {
     "name": "stdout",
     "output_type": "stream",
     "text": [
      "Current date (2023-12-03) has been written to today.txt\n"
     ]
    }
   ],
   "source": [
    "# 13.1\n",
    "\n",
    "from datetime import datetime\n",
    "\n",
    "\n",
    "current_date = datetime.now().strftime(\"%Y-%m-%d\")\n",
    "\n",
    "\n",
    "file_path = \"today.txt\"\n",
    "with open(file_path, 'w') as file:\n",
    "    file.write(current_date)\n",
    "    \n",
    "print(f\"Current date ({current_date}) has been written to {file_path}\")"
   ]
  },
  {
   "cell_type": "code",
   "execution_count": 2,
   "id": "4dc1086b",
   "metadata": {},
   "outputs": [
    {
     "name": "stdout",
     "output_type": "stream",
     "text": [
      "Contents of today.txt: 2023-12-03\n"
     ]
    }
   ],
   "source": [
    "# 13.2\n",
    "\n",
    "file_path = \"today.txt\"\n",
    "with open(file_path, 'r') as file:\n",
    "    today_string = file.read()\n",
    "    \n",
    "print(\"Contents of today.txt:\", today_string)"
   ]
  },
  {
   "cell_type": "code",
   "execution_count": 3,
   "id": "6e67f15f",
   "metadata": {},
   "outputs": [
    {
     "name": "stdout",
     "output_type": "stream",
     "text": [
      "Parsed Date: 2023-12-03 00:00:00\n"
     ]
    }
   ],
   "source": [
    "# 13.3 \n",
    "\n",
    "from datetime import datetime\n",
    "\n",
    "today_string = \"2023-12-03\"\n",
    "\n",
    "parsed_date = datetime.strptime(today_string, \"%Y-%m-%d\")\n",
    "print(\"Parsed Date:\", parsed_date)"
   ]
  },
  {
   "cell_type": "code",
   "execution_count": 11,
   "id": "f17e0447",
   "metadata": {},
   "outputs": [],
   "source": [
    "# 15.1\n",
    "\n",
    "import multiprocessing\n",
    "from datetime import datetime\n",
    "import random\n",
    "import time\n",
    "\n",
    "def process_function():\n",
    "    \n",
    "    wait_duration = random.random()\n",
    "    \n",
    "    time.sleep(wait_duration)\n",
    "    \n",
    "    current_time = datetime.now().strftime(\"%Y-%m-%d %H:%M:%S\")\n",
    "    print(f\"Process {multiprocessing.current_process().name}: {current_time}\")\n",
    "    \n",
    "if __name__ == \"__main__\":\n",
    "    \n",
    "    processes = [multiprocessing.Process(target=process_function) for _ in range(3)]\n",
    "    \n",
    "    for process in processes:\n",
    "        process.start()\n",
    "        \n",
    "    for process in processes:\n",
    "        process.join()\n",
    "    "
   ]
  },
  {
   "cell_type": "code",
   "execution_count": null,
   "id": "ff2835c4",
   "metadata": {},
   "outputs": [],
   "source": []
  }
 ],
 "metadata": {
  "kernelspec": {
   "display_name": "Python 3 (ipykernel)",
   "language": "python",
   "name": "python3"
  },
  "language_info": {
   "codemirror_mode": {
    "name": "ipython",
    "version": 3
   },
   "file_extension": ".py",
   "mimetype": "text/x-python",
   "name": "python",
   "nbconvert_exporter": "python",
   "pygments_lexer": "ipython3",
   "version": "3.11.5"
  }
 },
 "nbformat": 4,
 "nbformat_minor": 5
}
