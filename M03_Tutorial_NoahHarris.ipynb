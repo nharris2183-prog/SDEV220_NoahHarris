{
 "cells": [
  {
   "cell_type": "markdown",
   "id": "d01c34a4",
   "metadata": {},
   "source": [
    "Sort an array of 0s, 1s and 2s\n"
   ]
  },
  {
   "cell_type": "code",
   "execution_count": 4,
   "id": "1ebad6e3",
   "metadata": {},
   "outputs": [],
   "source": [
    "class Solution:\n",
    "    def sort012(self,arr,n):\n",
    "        # code here\n",
    "        low, mid, high = 0, 0, n - 1\n",
    "   \n",
    "        while mid <= high:\n",
    "            if arr[mid] == 0:\n",
    "                arr[low], arr[mid] = arr[mid], arr[low]\n",
    "                low += 1\n",
    "                mid += 1\n",
    "            elif arr[mid] == 1:\n",
    "                mid += 1\n",
    "            else:\n",
    "                arr[mid], arr[high] = arr[high], arr[mid]\n",
    "                high -= 1\n",
    "\n",
    "sol = Solution()\n",
    "arr = [0, 1, 2, 0, 1, 2]\n",
    "n = len(arr)\n",
    "sol.sort012(arr, n)\n"
   ]
  },
  {
   "cell_type": "markdown",
   "id": "443cfa4e",
   "metadata": {},
   "source": [
    "Binary Search\n"
   ]
  },
  {
   "cell_type": "code",
   "execution_count": 5,
   "id": "a5e53380",
   "metadata": {},
   "outputs": [],
   "source": [
    "class Solution:\n",
    "    def binarysearch(self, arr, n, k):\n",
    "        # code here\n",
    "        low, high = 0, n - 1\n",
    "\n",
    "        while low <= high:\n",
    "            mid = (low + high) // 2\n",
    "\n",
    "            if arr[mid] == k:\n",
    "                return mid\n",
    "            elif arr[mid] < k:\n",
    "                low = mid + 1\n",
    "            else:\n",
    "                high = mid - 1\n",
    "\n",
    "        return -1"
   ]
  },
  {
   "cell_type": "code",
   "execution_count": null,
   "id": "eb5afc3d",
   "metadata": {},
   "outputs": [],
   "source": []
  }
 ],
 "metadata": {
  "kernelspec": {
   "display_name": "Python 3 (ipykernel)",
   "language": "python",
   "name": "python3"
  },
  "language_info": {
   "codemirror_mode": {
    "name": "ipython",
    "version": 3
   },
   "file_extension": ".py",
   "mimetype": "text/x-python",
   "name": "python",
   "nbconvert_exporter": "python",
   "pygments_lexer": "ipython3",
   "version": "3.11.5"
  }
 },
 "nbformat": 4,
 "nbformat_minor": 5
}
